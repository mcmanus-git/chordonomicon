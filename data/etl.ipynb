{
 "cells": [
  {
   "metadata": {
    "ExecuteTime": {
     "end_time": "2025-04-11T02:08:30.724818Z",
     "start_time": "2025-04-11T02:08:30.229435Z"
    }
   },
   "cell_type": "code",
   "source": "import pandas as pd",
   "id": "8ecb23191b313932",
   "outputs": [],
   "execution_count": 1
  },
  {
   "metadata": {
    "ExecuteTime": {
     "end_time": "2025-04-11T02:08:31.742984Z",
     "start_time": "2025-04-11T02:08:31.736585Z"
    }
   },
   "cell_type": "code",
   "source": "url = \"https://huggingface.co/datasets/ailsntua/Chordonomicon/resolve/main/chordonomicon_v2.csv?download=true\"",
   "id": "4e9bde5fb24d7310",
   "outputs": [],
   "execution_count": 2
  },
  {
   "metadata": {
    "ExecuteTime": {
     "end_time": "2025-04-11T02:08:48.129909Z",
     "start_time": "2025-04-11T02:08:34.556761Z"
    }
   },
   "cell_type": "code",
   "source": [
    "# Download the dataset\n",
    "df = pd.read_csv(url)\n",
    "\n",
    "# separate data into batches of 100000\n",
    "batch_size = 100000\n",
    "batches = [df[i:i + batch_size] for i in range(0, df.shape[0], batch_size)]\n",
    "\n",
    "# save each batch to a separate CSV file\n",
    "for i, batch in enumerate(batches):\n",
    "    batch.to_csv(f\"chordonomicon_v2_batch_{i}.csv\", index=False)"
   ],
   "id": "a904e141260bfd8e",
   "outputs": [
    {
     "name": "stderr",
     "output_type": "stream",
     "text": [
      "/var/folders/x5/8jbl553d391f5ks09z57vch40000gn/T/ipykernel_6917/588448414.py:2: DtypeWarning: Columns (2,3,5,6,7,8,9) have mixed types. Specify dtype option on import or set low_memory=False.\n",
      "  df = pd.read_csv(url)\n"
     ]
    }
   ],
   "execution_count": 3
  },
  {
   "metadata": {
    "ExecuteTime": {
     "end_time": "2025-04-11T02:18:55.424922Z",
     "start_time": "2025-04-11T02:18:42.708941Z"
    }
   },
   "cell_type": "code",
   "source": "import pandas as pd",
   "id": "ecc3d2d436c4cca7",
   "outputs": [],
   "execution_count": 1
  },
  {
   "metadata": {
    "ExecuteTime": {
     "end_time": "2025-04-11T02:19:05.734607Z",
     "start_time": "2025-04-11T02:19:01.796062Z"
    }
   },
   "cell_type": "code",
   "source": [
    "df_raw = pd.read_csv(url)\n",
    "df_raw.head()"
   ],
   "id": "b62646bb9ac8608a",
   "outputs": [
    {
     "name": "stderr",
     "output_type": "stream",
     "text": [
      "/var/folders/x5/8jbl553d391f5ks09z57vch40000gn/T/ipykernel_7183/1181512393.py:1: DtypeWarning: Columns (2,3,5,6,7,8,9) have mixed types. Specify dtype option on import or set low_memory=False.\n",
      "  df_raw = pd.read_csv('/Users/michaelmcmanus/Downloads/chordonomicon_v2.csv')\n"
     ]
    },
    {
     "data": {
      "text/plain": [
       "   id                                             chords release_date  \\\n",
       "0   1  <intro_1> C <verse_1> F C E7 Amin C F C G7 C F...          NaN   \n",
       "1   2  <intro_1> E D A/Cs E D A/Cs <verse_1> E D A/Cs...   2003-01-01   \n",
       "2   3  <intro_1> Csmin <verse_1> A Csmin A Csmin A Cs...   2003-01-01   \n",
       "3   4  <intro_1> D Dmaj7 D Dmaj7 <verse_1> Emin A D G...   2022-09-23   \n",
       "4   5  <intro_1> C <verse_1> G C G C <chorus_1> F Dmi...   2023-02-10   \n",
       "\n",
       "                                              genres  decade     rock_genre  \\\n",
       "0                              'classic country pop'     NaN            NaN   \n",
       "1  'alternative metal' 'alternative rock' 'nu met...  2000.0       pop rock   \n",
       "2  'alternative metal' 'canadian rock' 'funk meta...  2000.0  canadian rock   \n",
       "3                                                NaN  2020.0            NaN   \n",
       "4                               'modern country pop'  2020.0            NaN   \n",
       "\n",
       "  artist_id main_genre         spotify_song_id       spotify_artist_id  \n",
       "0  artist_1        pop                     NaN  4AIEGdwDzPELXYgM5JaEY5  \n",
       "1  artist_2      metal  2ffJZ2r8HxI5DHcmf3BO6c  694QW15WkebjcrWgQHzRYF  \n",
       "2  artist_3      metal  5KiY8SZEnvCPyIEkFGRR3y  0niJkG4tKkne3zwr7I8n9n  \n",
       "3  artist_4        NaN  01TtAcUqyLCRBZq4ZZiQWS  17BfKBemmMGO5ZAK25wraW  \n",
       "4  artist_5        pop  3zUecdrWC3IqrNSjhnoF3G  4GGfAshSkqoxpZdoaHm7ky  "
      ],
      "text/html": [
       "<div>\n",
       "<style scoped>\n",
       "    .dataframe tbody tr th:only-of-type {\n",
       "        vertical-align: middle;\n",
       "    }\n",
       "\n",
       "    .dataframe tbody tr th {\n",
       "        vertical-align: top;\n",
       "    }\n",
       "\n",
       "    .dataframe thead th {\n",
       "        text-align: right;\n",
       "    }\n",
       "</style>\n",
       "<table border=\"1\" class=\"dataframe\">\n",
       "  <thead>\n",
       "    <tr style=\"text-align: right;\">\n",
       "      <th></th>\n",
       "      <th>id</th>\n",
       "      <th>chords</th>\n",
       "      <th>release_date</th>\n",
       "      <th>genres</th>\n",
       "      <th>decade</th>\n",
       "      <th>rock_genre</th>\n",
       "      <th>artist_id</th>\n",
       "      <th>main_genre</th>\n",
       "      <th>spotify_song_id</th>\n",
       "      <th>spotify_artist_id</th>\n",
       "    </tr>\n",
       "  </thead>\n",
       "  <tbody>\n",
       "    <tr>\n",
       "      <th>0</th>\n",
       "      <td>1</td>\n",
       "      <td>&lt;intro_1&gt; C &lt;verse_1&gt; F C E7 Amin C F C G7 C F...</td>\n",
       "      <td>NaN</td>\n",
       "      <td>'classic country pop'</td>\n",
       "      <td>NaN</td>\n",
       "      <td>NaN</td>\n",
       "      <td>artist_1</td>\n",
       "      <td>pop</td>\n",
       "      <td>NaN</td>\n",
       "      <td>4AIEGdwDzPELXYgM5JaEY5</td>\n",
       "    </tr>\n",
       "    <tr>\n",
       "      <th>1</th>\n",
       "      <td>2</td>\n",
       "      <td>&lt;intro_1&gt; E D A/Cs E D A/Cs &lt;verse_1&gt; E D A/Cs...</td>\n",
       "      <td>2003-01-01</td>\n",
       "      <td>'alternative metal' 'alternative rock' 'nu met...</td>\n",
       "      <td>2000.0</td>\n",
       "      <td>pop rock</td>\n",
       "      <td>artist_2</td>\n",
       "      <td>metal</td>\n",
       "      <td>2ffJZ2r8HxI5DHcmf3BO6c</td>\n",
       "      <td>694QW15WkebjcrWgQHzRYF</td>\n",
       "    </tr>\n",
       "    <tr>\n",
       "      <th>2</th>\n",
       "      <td>3</td>\n",
       "      <td>&lt;intro_1&gt; Csmin &lt;verse_1&gt; A Csmin A Csmin A Cs...</td>\n",
       "      <td>2003-01-01</td>\n",
       "      <td>'alternative metal' 'canadian rock' 'funk meta...</td>\n",
       "      <td>2000.0</td>\n",
       "      <td>canadian rock</td>\n",
       "      <td>artist_3</td>\n",
       "      <td>metal</td>\n",
       "      <td>5KiY8SZEnvCPyIEkFGRR3y</td>\n",
       "      <td>0niJkG4tKkne3zwr7I8n9n</td>\n",
       "    </tr>\n",
       "    <tr>\n",
       "      <th>3</th>\n",
       "      <td>4</td>\n",
       "      <td>&lt;intro_1&gt; D Dmaj7 D Dmaj7 &lt;verse_1&gt; Emin A D G...</td>\n",
       "      <td>2022-09-23</td>\n",
       "      <td>NaN</td>\n",
       "      <td>2020.0</td>\n",
       "      <td>NaN</td>\n",
       "      <td>artist_4</td>\n",
       "      <td>NaN</td>\n",
       "      <td>01TtAcUqyLCRBZq4ZZiQWS</td>\n",
       "      <td>17BfKBemmMGO5ZAK25wraW</td>\n",
       "    </tr>\n",
       "    <tr>\n",
       "      <th>4</th>\n",
       "      <td>5</td>\n",
       "      <td>&lt;intro_1&gt; C &lt;verse_1&gt; G C G C &lt;chorus_1&gt; F Dmi...</td>\n",
       "      <td>2023-02-10</td>\n",
       "      <td>'modern country pop'</td>\n",
       "      <td>2020.0</td>\n",
       "      <td>NaN</td>\n",
       "      <td>artist_5</td>\n",
       "      <td>pop</td>\n",
       "      <td>3zUecdrWC3IqrNSjhnoF3G</td>\n",
       "      <td>4GGfAshSkqoxpZdoaHm7ky</td>\n",
       "    </tr>\n",
       "  </tbody>\n",
       "</table>\n",
       "</div>"
      ]
     },
     "execution_count": 2,
     "metadata": {},
     "output_type": "execute_result"
    }
   ],
   "execution_count": 2
  },
  {
   "metadata": {
    "ExecuteTime": {
     "end_time": "2025-04-11T02:19:10.448012Z",
     "start_time": "2025-04-11T02:19:08.757458Z"
    }
   },
   "cell_type": "code",
   "source": "df_raw.to_parquet(\"chordonomicon_v2.parquet\", index=False)",
   "id": "eff1ea9cc5a58e60",
   "outputs": [],
   "execution_count": 3
  },
  {
   "metadata": {
    "ExecuteTime": {
     "end_time": "2025-04-11T02:20:21.439461Z",
     "start_time": "2025-04-11T02:20:20.014888Z"
    }
   },
   "cell_type": "code",
   "source": [
    "df_raw = pd.read_parquet(\"chordonomicon_v2.parquet\")\n",
    "df_raw.head()"
   ],
   "id": "f4a2cf076e9fbcee",
   "outputs": [
    {
     "data": {
      "text/plain": [
       "   id                                             chords release_date  \\\n",
       "0   1  <intro_1> C <verse_1> F C E7 Amin C F C G7 C F...         None   \n",
       "1   2  <intro_1> E D A/Cs E D A/Cs <verse_1> E D A/Cs...   2003-01-01   \n",
       "2   3  <intro_1> Csmin <verse_1> A Csmin A Csmin A Cs...   2003-01-01   \n",
       "3   4  <intro_1> D Dmaj7 D Dmaj7 <verse_1> Emin A D G...   2022-09-23   \n",
       "4   5  <intro_1> C <verse_1> G C G C <chorus_1> F Dmi...   2023-02-10   \n",
       "\n",
       "                                              genres  decade     rock_genre  \\\n",
       "0                              'classic country pop'     NaN           None   \n",
       "1  'alternative metal' 'alternative rock' 'nu met...  2000.0       pop rock   \n",
       "2  'alternative metal' 'canadian rock' 'funk meta...  2000.0  canadian rock   \n",
       "3                                               None  2020.0           None   \n",
       "4                               'modern country pop'  2020.0           None   \n",
       "\n",
       "  artist_id main_genre         spotify_song_id       spotify_artist_id  \n",
       "0  artist_1        pop                    None  4AIEGdwDzPELXYgM5JaEY5  \n",
       "1  artist_2      metal  2ffJZ2r8HxI5DHcmf3BO6c  694QW15WkebjcrWgQHzRYF  \n",
       "2  artist_3      metal  5KiY8SZEnvCPyIEkFGRR3y  0niJkG4tKkne3zwr7I8n9n  \n",
       "3  artist_4       None  01TtAcUqyLCRBZq4ZZiQWS  17BfKBemmMGO5ZAK25wraW  \n",
       "4  artist_5        pop  3zUecdrWC3IqrNSjhnoF3G  4GGfAshSkqoxpZdoaHm7ky  "
      ],
      "text/html": [
       "<div>\n",
       "<style scoped>\n",
       "    .dataframe tbody tr th:only-of-type {\n",
       "        vertical-align: middle;\n",
       "    }\n",
       "\n",
       "    .dataframe tbody tr th {\n",
       "        vertical-align: top;\n",
       "    }\n",
       "\n",
       "    .dataframe thead th {\n",
       "        text-align: right;\n",
       "    }\n",
       "</style>\n",
       "<table border=\"1\" class=\"dataframe\">\n",
       "  <thead>\n",
       "    <tr style=\"text-align: right;\">\n",
       "      <th></th>\n",
       "      <th>id</th>\n",
       "      <th>chords</th>\n",
       "      <th>release_date</th>\n",
       "      <th>genres</th>\n",
       "      <th>decade</th>\n",
       "      <th>rock_genre</th>\n",
       "      <th>artist_id</th>\n",
       "      <th>main_genre</th>\n",
       "      <th>spotify_song_id</th>\n",
       "      <th>spotify_artist_id</th>\n",
       "    </tr>\n",
       "  </thead>\n",
       "  <tbody>\n",
       "    <tr>\n",
       "      <th>0</th>\n",
       "      <td>1</td>\n",
       "      <td>&lt;intro_1&gt; C &lt;verse_1&gt; F C E7 Amin C F C G7 C F...</td>\n",
       "      <td>None</td>\n",
       "      <td>'classic country pop'</td>\n",
       "      <td>NaN</td>\n",
       "      <td>None</td>\n",
       "      <td>artist_1</td>\n",
       "      <td>pop</td>\n",
       "      <td>None</td>\n",
       "      <td>4AIEGdwDzPELXYgM5JaEY5</td>\n",
       "    </tr>\n",
       "    <tr>\n",
       "      <th>1</th>\n",
       "      <td>2</td>\n",
       "      <td>&lt;intro_1&gt; E D A/Cs E D A/Cs &lt;verse_1&gt; E D A/Cs...</td>\n",
       "      <td>2003-01-01</td>\n",
       "      <td>'alternative metal' 'alternative rock' 'nu met...</td>\n",
       "      <td>2000.0</td>\n",
       "      <td>pop rock</td>\n",
       "      <td>artist_2</td>\n",
       "      <td>metal</td>\n",
       "      <td>2ffJZ2r8HxI5DHcmf3BO6c</td>\n",
       "      <td>694QW15WkebjcrWgQHzRYF</td>\n",
       "    </tr>\n",
       "    <tr>\n",
       "      <th>2</th>\n",
       "      <td>3</td>\n",
       "      <td>&lt;intro_1&gt; Csmin &lt;verse_1&gt; A Csmin A Csmin A Cs...</td>\n",
       "      <td>2003-01-01</td>\n",
       "      <td>'alternative metal' 'canadian rock' 'funk meta...</td>\n",
       "      <td>2000.0</td>\n",
       "      <td>canadian rock</td>\n",
       "      <td>artist_3</td>\n",
       "      <td>metal</td>\n",
       "      <td>5KiY8SZEnvCPyIEkFGRR3y</td>\n",
       "      <td>0niJkG4tKkne3zwr7I8n9n</td>\n",
       "    </tr>\n",
       "    <tr>\n",
       "      <th>3</th>\n",
       "      <td>4</td>\n",
       "      <td>&lt;intro_1&gt; D Dmaj7 D Dmaj7 &lt;verse_1&gt; Emin A D G...</td>\n",
       "      <td>2022-09-23</td>\n",
       "      <td>None</td>\n",
       "      <td>2020.0</td>\n",
       "      <td>None</td>\n",
       "      <td>artist_4</td>\n",
       "      <td>None</td>\n",
       "      <td>01TtAcUqyLCRBZq4ZZiQWS</td>\n",
       "      <td>17BfKBemmMGO5ZAK25wraW</td>\n",
       "    </tr>\n",
       "    <tr>\n",
       "      <th>4</th>\n",
       "      <td>5</td>\n",
       "      <td>&lt;intro_1&gt; C &lt;verse_1&gt; G C G C &lt;chorus_1&gt; F Dmi...</td>\n",
       "      <td>2023-02-10</td>\n",
       "      <td>'modern country pop'</td>\n",
       "      <td>2020.0</td>\n",
       "      <td>None</td>\n",
       "      <td>artist_5</td>\n",
       "      <td>pop</td>\n",
       "      <td>3zUecdrWC3IqrNSjhnoF3G</td>\n",
       "      <td>4GGfAshSkqoxpZdoaHm7ky</td>\n",
       "    </tr>\n",
       "  </tbody>\n",
       "</table>\n",
       "</div>"
      ]
     },
     "execution_count": 4,
     "metadata": {},
     "output_type": "execute_result"
    }
   ],
   "execution_count": 4
  },
  {
   "metadata": {},
   "cell_type": "code",
   "outputs": [],
   "execution_count": null,
   "source": "",
   "id": "52f1e37adfb8541b"
  }
 ],
 "metadata": {
  "kernelspec": {
   "display_name": "Python 3",
   "language": "python",
   "name": "python3"
  },
  "language_info": {
   "codemirror_mode": {
    "name": "ipython",
    "version": 2
   },
   "file_extension": ".py",
   "mimetype": "text/x-python",
   "name": "python",
   "nbconvert_exporter": "python",
   "pygments_lexer": "ipython2",
   "version": "2.7.6"
  }
 },
 "nbformat": 4,
 "nbformat_minor": 5
}
