{
 "cells": [
  {
   "metadata": {
    "ExecuteTime": {
     "end_time": "2025-04-11T02:08:30.724818Z",
     "start_time": "2025-04-11T02:08:30.229435Z"
    }
   },
   "cell_type": "code",
   "source": "import pandas as pd",
   "id": "8ecb23191b313932",
   "outputs": [],
   "execution_count": 1
  },
  {
   "metadata": {
    "ExecuteTime": {
     "end_time": "2025-04-11T02:08:31.742984Z",
     "start_time": "2025-04-11T02:08:31.736585Z"
    }
   },
   "cell_type": "code",
   "source": "url = \"https://huggingface.co/datasets/ailsntua/Chordonomicon/resolve/main/chordonomicon_v2.csv?download=true\"",
   "id": "4e9bde5fb24d7310",
   "outputs": [],
   "execution_count": 2
  },
  {
   "metadata": {
    "ExecuteTime": {
     "end_time": "2025-04-11T02:08:48.129909Z",
     "start_time": "2025-04-11T02:08:34.556761Z"
    }
   },
   "cell_type": "code",
   "source": [
    "# Download the dataset\n",
    "df = pd.read_csv(url)\n",
    "\n",
    "# separate data into batches of 100000\n",
    "batch_size = 100000\n",
    "batches = [df[i:i + batch_size] for i in range(0, df.shape[0], batch_size)]\n",
    "\n",
    "# save each batch to a separate CSV file\n",
    "for i, batch in enumerate(batches):\n",
    "    batch.to_csv(f\"chordonomicon_v2_batch_{i}.csv\", index=False)"
   ],
   "id": "a904e141260bfd8e",
   "outputs": [
    {
     "name": "stderr",
     "output_type": "stream",
     "text": [
      "/var/folders/x5/8jbl553d391f5ks09z57vch40000gn/T/ipykernel_6917/588448414.py:2: DtypeWarning: Columns (2,3,5,6,7,8,9) have mixed types. Specify dtype option on import or set low_memory=False.\n",
      "  df = pd.read_csv(url)\n"
     ]
    }
   ],
   "execution_count": 3
  }
 ],
 "metadata": {
  "kernelspec": {
   "display_name": "Python 3",
   "language": "python",
   "name": "python3"
  },
  "language_info": {
   "codemirror_mode": {
    "name": "ipython",
    "version": 2
   },
   "file_extension": ".py",
   "mimetype": "text/x-python",
   "name": "python",
   "nbconvert_exporter": "python",
   "pygments_lexer": "ipython2",
   "version": "2.7.6"
  }
 },
 "nbformat": 4,
 "nbformat_minor": 5
}
